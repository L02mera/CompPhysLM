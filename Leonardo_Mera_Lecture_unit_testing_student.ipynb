{
  "nbformat": 4,
  "nbformat_minor": 0,
  "metadata": {
    "colab": {
      "provenance": [],
      "include_colab_link": true
    },
    "kernelspec": {
      "name": "python3",
      "display_name": "Python 3"
    },
    "language_info": {
      "name": "python"
    }
  },
  "cells": [
    {
      "cell_type": "markdown",
      "metadata": {
        "id": "view-in-github",
        "colab_type": "text"
      },
      "source": [
        "<a href=\"https://colab.research.google.com/github/L02mera/CompPhysLM/blob/main/Leonardo_Mera_Lecture_unit_testing_student.ipynb\" target=\"_parent\"><img src=\"https://colab.research.google.com/assets/colab-badge.svg\" alt=\"Open In Colab\"/></a>"
      ]
    },
    {
      "cell_type": "markdown",
      "source": [
        "# Testing\n",
        "\n",
        "* When writing functions and programs, we should be sure to test the output.\n",
        "* You can compare the output to what is expected using assert."
      ],
      "metadata": {
        "id": "oFhxG5FhwaT9"
      }
    },
    {
      "cell_type": "code",
      "execution_count": 3,
      "metadata": {
        "id": "duhXt5_ZHLuh"
      },
      "outputs": [],
      "source": [
        "# define a function that multiplies by 2 and subtracts one\n",
        "def myfunc(x):\n",
        "  y = 2 * x - 1\n",
        "  return y\n",
        "\n",
        "\n"
      ]
    },
    {
      "cell_type": "code",
      "source": [
        "# use assert to test the output when the input is equal to x\n",
        "assert myfunc(0) == -1"
      ],
      "metadata": {
        "id": "rnke5hHwqNe5"
      },
      "execution_count": 9,
      "outputs": []
    },
    {
      "cell_type": "markdown",
      "source": [
        "# Using `try` and `except`\n",
        "\n",
        "* We can make this a little more sophisticated using the try/except commands.\n",
        "* This will allow us to give information back to the user without causing the testing cell to crash.\n",
        "* We could also tailor the feedback based on what the function returns.\n"
      ],
      "metadata": {
        "id": "DQ1gyLLQyNaD"
      }
    },
    {
      "cell_type": "code",
      "source": [
        "# demo : use try and except to make the code more robust\n",
        "\n",
        "# if the function returns the correct value, congratulate the user\n",
        "\n",
        "# if the function returns a wrong value, print error message to user\n",
        "\n",
        "try:\n",
        "  assert myfunc(0) == -1\n",
        "  print(\"The function returned the correct value\")\n",
        "except AssertionError:\n",
        "  print(\"the function returned the wrong value!\")"
      ],
      "metadata": {
        "id": "C5EGegacrM0C",
        "colab": {
          "base_uri": "https://localhost:8080/"
        },
        "outputId": "d6ab067f-00c3-4c5f-8fdb-ff4799ffe981"
      },
      "execution_count": 30,
      "outputs": [
        {
          "output_type": "stream",
          "name": "stdout",
          "text": [
            "The function returned the correct value\n"
          ]
        }
      ]
    },
    {
      "cell_type": "markdown",
      "source": [
        "# Your turn\n",
        "\n",
        "follow the instructions below to create a function and test it."
      ],
      "metadata": {
        "id": "OK1Oo-n2yY0O"
      }
    },
    {
      "cell_type": "code",
      "source": [
        "# make a function that squares the input\n",
        "def squared(x):\n",
        "  return x**2\n"
      ],
      "metadata": {
        "id": "wWFUF590riet"
      },
      "execution_count": 21,
      "outputs": []
    },
    {
      "cell_type": "code",
      "source": [
        "# test with a positive number\n",
        "try:\n",
        "  assert squared(2) == 4\n",
        "  print(\"The function returned the correct value\")\n",
        "except AssertionError:\n",
        "  print(\"the function returned the wrong value!\")\n",
        "# test with a negative number\n",
        "try:\n",
        "  assert squared(-2) == 4\n",
        "  print(\"The function returned the correct value\")\n",
        "except AssertionError:\n",
        "  print(\"the function returned the wrong value!\")\n",
        "# test with zero\n",
        "try:\n",
        "  assert squared(0) == 0\n",
        "  print(\"The function returned the correct value\")\n",
        "except AssertionError:\n",
        "  print(\"the function returned the wrong value!\")"
      ],
      "metadata": {
        "id": "5Eb332XWm2sn",
        "colab": {
          "base_uri": "https://localhost:8080/"
        },
        "outputId": "6716c6f8-39d3-474b-f913-1236f4849486"
      },
      "execution_count": 33,
      "outputs": [
        {
          "output_type": "stream",
          "name": "stdout",
          "text": [
            "The function returned the correct value\n",
            "The function returned the correct value\n",
            "The function returned the correct value\n"
          ]
        }
      ]
    },
    {
      "cell_type": "markdown",
      "source": [
        "# Create your own example\n",
        "\n",
        "* Create your own function\n",
        "* develop a test code to check the output of the function"
      ],
      "metadata": {
        "id": "f5hjrr1sm0d6"
      }
    },
    {
      "cell_type": "code",
      "source": [
        "def adddos(x1):\n",
        "  y1 = x1 + 2\n",
        "  return y1\n",
        "\n",
        "\n",
        "# test with a positive number\n",
        "try:\n",
        "  assert adddos(2) == 4\n",
        "  print(\"The function returned the correct value\")\n",
        "except AssertionError:\n",
        "  print(\"the function returned the wrong value!\")\n",
        "# test with a negative number\n",
        "try:\n",
        "  assert adddos(-2) == 0\n",
        "  print(\"The function returned the correct value\")\n",
        "except AssertionError:\n",
        "  print(\"the function returned the wrong value!\")\n",
        "# test with zero\n",
        "try:\n",
        "  assert adddos(0) == 2\n",
        "  print(\"The function returned the correct value\")\n",
        "except AssertionError:\n",
        "  print(\"the function returned the wrong value!\")"
      ],
      "metadata": {
        "colab": {
          "base_uri": "https://localhost:8080/"
        },
        "id": "2fzCB6LxEJ3a",
        "outputId": "e1bdceda-f4cc-4762-85bd-5ac4c4c1332b"
      },
      "execution_count": 36,
      "outputs": [
        {
          "output_type": "stream",
          "name": "stdout",
          "text": [
            "The function returned the correct value\n",
            "The function returned the correct value\n",
            "The function returned the correct value\n"
          ]
        }
      ]
    },
    {
      "cell_type": "code",
      "source": [],
      "metadata": {
        "id": "SDmc12ybEjtc"
      },
      "execution_count": null,
      "outputs": []
    }
  ]
}