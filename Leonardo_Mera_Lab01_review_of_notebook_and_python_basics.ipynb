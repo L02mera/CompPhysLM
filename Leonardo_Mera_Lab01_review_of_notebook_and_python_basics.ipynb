{
  "nbformat": 4,
  "nbformat_minor": 0,
  "metadata": {
    "colab": {
      "provenance": [],
      "include_colab_link": true
    },
    "kernelspec": {
      "name": "python3",
      "display_name": "Python 3"
    }
  },
  "cells": [
    {
      "cell_type": "markdown",
      "metadata": {
        "id": "view-in-github",
        "colab_type": "text"
      },
      "source": [
        "<a href=\"https://colab.research.google.com/github/L02mera/CompPhysLM/blob/main/Leonardo_Mera_Lab01_review_of_notebook_and_python_basics.ipynb\" target=\"_parent\"><img src=\"https://colab.research.google.com/assets/colab-badge.svg\" alt=\"Open In Colab\"/></a>"
      ]
    },
    {
      "cell_type": "markdown",
      "metadata": {
        "id": "36eTMfu05klo"
      },
      "source": [
        "# Lab 1: Python Review\n",
        "\n",
        "The goal of this notebook is to help you review some of the basics of python.\n",
        "\n",
        "Specifically, you will review\n",
        "\n",
        "* python syntax\n",
        "* markdown\n",
        "* formatted printing\n",
        "* loops\n",
        "* conditionals\n",
        "* functions\n",
        "* basic plotting\n",
        "\n"
      ]
    },
    {
      "cell_type": "markdown",
      "source": [
        "\n",
        "# Fixer-upper\n",
        "\n",
        "Fix the code in the cells below...it's all broken!\n",
        "\n",
        "(1 point each)"
      ],
      "metadata": {
        "id": "ho0V0oXimSW9"
      }
    },
    {
      "cell_type": "code",
      "metadata": {
        "id": "7xWQl5iV5ZlR",
        "colab": {
          "base_uri": "https://localhost:8080/"
        },
        "outputId": "4b9422b2-663e-48d9-bb2d-0c4d8d959772"
      },
      "source": [
        "myage = 19 # Or fill in your age here\n",
        "\n",
        "print(f\"My age is: {myage}\")\n"
      ],
      "execution_count": null,
      "outputs": [
        {
          "output_type": "stream",
          "name": "stdout",
          "text": [
            "My age is: 19\n"
          ]
        }
      ]
    },
    {
      "cell_type": "code",
      "metadata": {
        "id": "_uqX-8oa50fF",
        "colab": {
          "base_uri": "https://localhost:8080/"
        },
        "outputId": "91c7803b-4603-4f42-e658-47fa9ba13896"
      },
      "source": [
        "song = \"Believer\"\n",
        "artist = \"Imagine Dragons\"\n",
        "\n",
        "print(f\"{song} is sung by {artist}\")"
      ],
      "execution_count": null,
      "outputs": [
        {
          "output_type": "stream",
          "name": "stdout",
          "text": [
            "Believer is sung by Imagine Dragons\n"
          ]
        }
      ]
    },
    {
      "cell_type": "code",
      "metadata": {
        "id": "YdQv3Fxw5_wh",
        "colab": {
          "base_uri": "https://localhost:8080/"
        },
        "outputId": "a4d8f2e7-aadb-4220-ca30-223b864151a3"
      },
      "source": [
        "from math import factorial\n",
        "\n",
        "factorial(4)"
      ],
      "execution_count": null,
      "outputs": [
        {
          "output_type": "execute_result",
          "data": {
            "text/plain": [
              "24"
            ]
          },
          "metadata": {},
          "execution_count": 151
        }
      ]
    },
    {
      "cell_type": "code",
      "metadata": {
        "id": "XMy2PU_u6Dpm",
        "colab": {
          "base_uri": "https://localhost:8080/"
        },
        "outputId": "8041b711-51a6-4140-f16e-5712066ab448"
      },
      "source": [
        "from math import pi,cos\n",
        "\n",
        "angle = pi/4.0\n",
        "\n",
        "\n",
        "print(cos(angle))"
      ],
      "execution_count": null,
      "outputs": [
        {
          "output_type": "stream",
          "name": "stdout",
          "text": [
            "0.7071067811865476\n"
          ]
        }
      ]
    },
    {
      "cell_type": "markdown",
      "metadata": {
        "id": "NJdvPivG6VhP"
      },
      "source": [
        "After you fix the above cell, try restarting the kernel (**Runtime --> Restart runtime...**) and re-running the cell to make sure it works.\n"
      ]
    },
    {
      "cell_type": "markdown",
      "metadata": {
        "id": "M_oS7zjam4_g"
      },
      "source": [
        "# Markdown\n",
        "(1 point each)\n",
        "\n",
        "1. Write out some text in bold, italics, and both.\n",
        "\n",
        "1. Make a bullet list.\n",
        "\n",
        "1. Write out some (3 or more) kinematic equations from Gen Phys I using LaTeX. You can reference a more complete list of\n",
        "symbols [here](https://artofproblemsolving.com/wiki/index.php/LaTeX:Symbols)."
      ]
    },
    {
      "cell_type": "markdown",
      "source": [
        "Bold: **Text**,\n",
        "italics: *Text*,\n",
        "Both: **This** *Text*\n",
        "\n",
        "List of Equations:\n",
        "\n",
        "\n",
        "1. $\\Delta x=v_it+{1\\over2}at^2$\n",
        "2. $v_f=v_i+at$\n",
        "3. $\\Delta x={1\\over2}(v_i+v_f)t$\n"
      ],
      "metadata": {
        "id": "psnMJ61otYwE"
      }
    },
    {
      "cell_type": "markdown",
      "source": [
        "# Formatted Printing\n",
        "(1 point each)\n",
        "\n",
        "* We can use formatted print statements to print out variables.\n",
        "* We will often want to print the results of a calculation, but we don't want to print out a million digits.  We can use formatted print statements to limit the precision of the numbers that we print.\n",
        "* See this link for more details https://docs.python.org/3/tutorial/inputoutput.html"
      ],
      "metadata": {
        "id": "z46N8yx4mJp1"
      }
    },
    {
      "cell_type": "code",
      "source": [
        "myratio = 10/3\n",
        "print(myratio)"
      ],
      "metadata": {
        "id": "jGUaqE_ZmIJh",
        "colab": {
          "base_uri": "https://localhost:8080/"
        },
        "outputId": "640d843d-6d10-4d1c-8b33-4b5e31e89059"
      },
      "execution_count": null,
      "outputs": [
        {
          "output_type": "stream",
          "name": "stdout",
          "text": [
            "3.3333333333333335\n"
          ]
        }
      ]
    },
    {
      "cell_type": "code",
      "source": [
        "# formatted print statement, we can reference the variable in brackets {}\n",
        "print(f\"my ratio = {myratio}\")"
      ],
      "metadata": {
        "id": "Q6SV8R-MnGwN",
        "colab": {
          "base_uri": "https://localhost:8080/"
        },
        "outputId": "a3763057-f124-41d2-cf48-877724725c56"
      },
      "execution_count": null,
      "outputs": [
        {
          "output_type": "stream",
          "name": "stdout",
          "text": [
            "my ratio = 3.3333333333333335\n"
          ]
        }
      ]
    },
    {
      "cell_type": "code",
      "source": [
        "# we can limit the number of decimal places that it prints\n",
        "# in the statement below, I ask python to print the first two digits after the decimal point\n",
        "print(f\"my ratio = {myratio:.2f}\")"
      ],
      "metadata": {
        "id": "CDcv5LfsnRS9",
        "colab": {
          "base_uri": "https://localhost:8080/"
        },
        "outputId": "2415d036-21d7-4e28-d9fc-6d6144d2b934"
      },
      "execution_count": null,
      "outputs": [
        {
          "output_type": "stream",
          "name": "stdout",
          "text": [
            "my ratio = 3.33\n"
          ]
        }
      ]
    },
    {
      "cell_type": "code",
      "source": [
        "# print pi to 5 decimal places\n",
        "PIE = pi\n",
        "print(f\"the first 5 decimal places of pi is: {PIE:.5f}\")"
      ],
      "metadata": {
        "id": "my59mzWznlK_",
        "colab": {
          "base_uri": "https://localhost:8080/"
        },
        "outputId": "9042017e-ca44-49c0-c13a-098789fb441d"
      },
      "execution_count": null,
      "outputs": [
        {
          "output_type": "stream",
          "name": "stdout",
          "text": [
            "the first 5 decimal places of pi is: 3.14159\n"
          ]
        }
      ]
    },
    {
      "cell_type": "markdown",
      "metadata": {
        "id": "3giruAXg1Es9"
      },
      "source": [
        "# Lists\n",
        "\n",
        "These exercises will allow you to test your understanding of Python lists.\n",
        "\n",
        "(1 point each)"
      ]
    },
    {
      "cell_type": "code",
      "metadata": {
        "id": "YZmDOp-a0_7z"
      },
      "source": [
        "fib = [1,2,3,5,8,13,21,34,55,84]"
      ],
      "execution_count": null,
      "outputs": []
    },
    {
      "cell_type": "code",
      "metadata": {
        "id": "BQFNz7q91Osr",
        "colab": {
          "base_uri": "https://localhost:8080/"
        },
        "outputId": "20b47103-3fe5-400b-f711-6ff424189513"
      },
      "source": [
        "# Print the second entry in the list fib.\n",
        "print(fib[1])"
      ],
      "execution_count": null,
      "outputs": [
        {
          "output_type": "stream",
          "name": "stdout",
          "text": [
            "2\n"
          ]
        }
      ]
    },
    {
      "cell_type": "code",
      "metadata": {
        "id": "Uy59uKl51RKM",
        "colab": {
          "base_uri": "https://localhost:8080/"
        },
        "outputId": "4c2a2dec-cfbf-42d5-d23d-652717c77453"
      },
      "source": [
        "# Print the 8th entry in the list fib.\n",
        "print(fib[7])"
      ],
      "execution_count": null,
      "outputs": [
        {
          "output_type": "stream",
          "name": "stdout",
          "text": [
            "34\n"
          ]
        }
      ]
    },
    {
      "cell_type": "code",
      "metadata": {
        "id": "7SoOIZgu1SIs",
        "colab": {
          "base_uri": "https://localhost:8080/"
        },
        "outputId": "3e95cc46-9d65-4288-e4ea-ed5f5b8d5d86"
      },
      "source": [
        "# How many entries are there in the fib list?\n",
        "len(fib)"
      ],
      "execution_count": null,
      "outputs": [
        {
          "output_type": "execute_result",
          "data": {
            "text/plain": [
              "10"
            ]
          },
          "metadata": {},
          "execution_count": 160
        }
      ]
    },
    {
      "cell_type": "code",
      "metadata": {
        "id": "Hj-9YGFb1THE",
        "colab": {
          "base_uri": "https://localhost:8080/"
        },
        "outputId": "b28ed746-a891-427a-9c24-71b682c806e4"
      },
      "source": [
        "# How would you reference (using the proper index) the number 13 in the fib list?\n",
        "print(fib[5])"
      ],
      "execution_count": null,
      "outputs": [
        {
          "output_type": "stream",
          "name": "stdout",
          "text": [
            "13\n"
          ]
        }
      ]
    },
    {
      "cell_type": "code",
      "metadata": {
        "id": "JcVRV3K51UZM"
      },
      "source": [
        "words = ['Once upon a ','midnight dreary ','while I pondered ','weak and weary']"
      ],
      "execution_count": null,
      "outputs": []
    },
    {
      "cell_type": "code",
      "metadata": {
        "id": "JdPoBM6o1V31",
        "colab": {
          "base_uri": "https://localhost:8080/"
        },
        "outputId": "14e76d8d-45e7-4bfa-f571-3b4351114382"
      },
      "source": [
        "# How many entries are there in the words list?\n",
        "len(words)"
      ],
      "execution_count": null,
      "outputs": [
        {
          "output_type": "execute_result",
          "data": {
            "text/plain": [
              "4"
            ]
          },
          "metadata": {},
          "execution_count": 163
        }
      ]
    },
    {
      "cell_type": "code",
      "metadata": {
        "id": "Enh1au3T1W5t",
        "colab": {
          "base_uri": "https://localhost:8080/"
        },
        "outputId": "4f2adc1f-2acd-47b4-f091-55f6fb2d78e8"
      },
      "source": [
        "# Print the 3rd entry in the words list?\n",
        "print(words[2])"
      ],
      "execution_count": null,
      "outputs": [
        {
          "output_type": "stream",
          "name": "stdout",
          "text": [
            "while I pondered \n"
          ]
        }
      ]
    },
    {
      "cell_type": "code",
      "metadata": {
        "id": "M52P5_901Xme",
        "colab": {
          "base_uri": "https://localhost:8080/"
        },
        "outputId": "453a4592-8841-4416-a012-2d18ecde4f9d"
      },
      "source": [
        "# How many characters are there in the 3rd entry in the words list?\n",
        "len(words[2])"
      ],
      "execution_count": null,
      "outputs": [
        {
          "output_type": "execute_result",
          "data": {
            "text/plain": [
              "17"
            ]
          },
          "metadata": {},
          "execution_count": 165
        }
      ]
    },
    {
      "cell_type": "code",
      "metadata": {
        "id": "1G_Au1KQ1YVV",
        "colab": {
          "base_uri": "https://localhost:8080/"
        },
        "outputId": "e8603b2c-d2b0-4aaa-8c8a-62f9eeaadca5"
      },
      "source": [
        "# Make an empty list and use the append function to add to it the following numbers.\n",
        "# 16\n",
        "# 25\n",
        "# 121\n",
        "# 169\n",
        "# 225\n",
        "empty = []\n",
        "empty.append(16)\n",
        "empty.append(25)\n",
        "empty.append(121)\n",
        "empty.append(169)\n",
        "empty.append(225)\n",
        "print(empty)"
      ],
      "execution_count": null,
      "outputs": [
        {
          "output_type": "stream",
          "name": "stdout",
          "text": [
            "[16, 25, 121, 169, 225]\n"
          ]
        }
      ]
    },
    {
      "cell_type": "code",
      "metadata": {
        "id": "F7JHfM771Z_-"
      },
      "source": [
        "# Make a list of two lists. Add to the first ``sub\" list the following words\n",
        "# 'One'\n",
        "# 'Two'\n",
        "# 'Three'\n",
        "#  and add to the second list\n",
        "# 1\n",
        "# 2\n",
        "# 3\n",
        "\n",
        "Doublelst = ['One','Two','Three',1,2,3]"
      ],
      "execution_count": null,
      "outputs": []
    },
    {
      "cell_type": "code",
      "metadata": {
        "id": "zEZju2mq1bbe",
        "colab": {
          "base_uri": "https://localhost:8080/"
        },
        "outputId": "6ea402f4-2ac0-4192-e34e-14189dab4099"
      },
      "source": [
        "# Print out the entry with 'Two'\n",
        "print(Doublelst[1])"
      ],
      "execution_count": null,
      "outputs": [
        {
          "output_type": "stream",
          "name": "stdout",
          "text": [
            "Two\n"
          ]
        }
      ]
    },
    {
      "cell_type": "code",
      "metadata": {
        "id": "e5Y2hZw01cjN",
        "colab": {
          "base_uri": "https://localhost:8080/"
        },
        "outputId": "70479d82-ab94-4983-81cc-c4e1bac03e21"
      },
      "source": [
        "# Print out the entry with 3\n",
        "print(Doublelst[5])"
      ],
      "execution_count": null,
      "outputs": [
        {
          "output_type": "stream",
          "name": "stdout",
          "text": [
            "3\n"
          ]
        }
      ]
    },
    {
      "cell_type": "markdown",
      "metadata": {
        "id": "lkngXj8V1ffm"
      },
      "source": [
        "# Loops\n",
        "\n",
        "These exercises will allow you to test your understanding of loops in Python.\n",
        "\n",
        "(2 points each)"
      ]
    },
    {
      "cell_type": "code",
      "metadata": {
        "id": "GGiYk-9s1dUN",
        "colab": {
          "base_uri": "https://localhost:8080/"
        },
        "outputId": "5afe7621-7bb4-4ea1-c188-74e34b2dc9c9"
      },
      "source": [
        "# Use a while loop to print out the even numbers from 0-10 (inclusive)\n",
        "i = -2\n",
        "while i < 10:\n",
        "  i=i+2\n",
        "  print(i)\n",
        "\n"
      ],
      "execution_count": null,
      "outputs": [
        {
          "output_type": "stream",
          "name": "stdout",
          "text": [
            "0\n",
            "2\n",
            "4\n",
            "6\n",
            "8\n",
            "10\n"
          ]
        }
      ]
    },
    {
      "cell_type": "code",
      "metadata": {
        "id": "kp_qKAgB1jK3",
        "colab": {
          "base_uri": "https://localhost:8080/"
        },
        "outputId": "3673d5b3-d456-4780-e8b5-c2fed670fa80"
      },
      "source": [
        "# Use a for loop with the range function to print out the even numbers from 0-10 (inclusive)\n",
        "for i in range(0,11,2):\n",
        "  print(i)\n"
      ],
      "execution_count": null,
      "outputs": [
        {
          "output_type": "stream",
          "name": "stdout",
          "text": [
            "0\n",
            "2\n",
            "4\n",
            "6\n",
            "8\n",
            "10\n"
          ]
        }
      ]
    },
    {
      "cell_type": "code",
      "metadata": {
        "id": "x5JOczHi1j-t",
        "colab": {
          "base_uri": "https://localhost:8080/"
        },
        "outputId": "3afe0af2-e783-4084-a1fa-27114d03d1f1"
      },
      "source": [
        "# Use a for loop to add up the multiples of 3 that are less than 100.\n",
        "x = 0\n",
        "for i in range(0,100,3):\n",
        "  x += i\n",
        "print(x)"
      ],
      "execution_count": null,
      "outputs": [
        {
          "output_type": "stream",
          "name": "stdout",
          "text": [
            "1683\n"
          ]
        }
      ]
    },
    {
      "cell_type": "code",
      "metadata": {
        "id": "Gj025a-D1k3u",
        "colab": {
          "base_uri": "https://localhost:8080/"
        },
        "outputId": "b131cae4-0a80-4499-d295-0694370b5890"
      },
      "source": [
        "# Use a while loop to add up the multiples of 3 (starting at 0), while the total is less than 100.\n",
        "y = 0\n",
        "i = 0\n",
        "while i < 99:\n",
        "  i = i+3\n",
        "  y += i\n",
        "print(y)"
      ],
      "execution_count": null,
      "outputs": [
        {
          "output_type": "stream",
          "name": "stdout",
          "text": [
            "1683\n"
          ]
        }
      ]
    },
    {
      "cell_type": "code",
      "metadata": {
        "id": "TO_DbqrOQwiW",
        "colab": {
          "base_uri": "https://localhost:8080/"
        },
        "outputId": "f84e66fc-04c8-472b-b26d-c1a4b96ea31a"
      },
      "source": [
        "fib = [1,2,3,5,8,13,21,34,55,84]\n",
        "\n",
        "# Loop over this list and print out the entries 2 ways:\n",
        "# * Just iterating over each entry in the list\n",
        "i = 0\n",
        "while i < 10:\n",
        "  print(fib[i])\n",
        "  i = i+1\n",
        "# * Using \"range\" and referencing the entries by index\n",
        "for x in range(0,10):\n",
        "  print(fib[x])\n"
      ],
      "execution_count": null,
      "outputs": [
        {
          "output_type": "stream",
          "name": "stdout",
          "text": [
            "1\n",
            "2\n",
            "3\n",
            "5\n",
            "8\n",
            "13\n",
            "21\n",
            "34\n",
            "55\n",
            "84\n",
            "1\n",
            "2\n",
            "3\n",
            "5\n",
            "8\n",
            "13\n",
            "21\n",
            "34\n",
            "55\n",
            "84\n"
          ]
        }
      ]
    },
    {
      "cell_type": "code",
      "metadata": {
        "id": "TZEkZjBL1l3t",
        "colab": {
          "base_uri": "https://localhost:8080/"
        },
        "outputId": "745e7e67-d0c1-4381-8214-90c02f1cdd33"
      },
      "source": [
        "# Put all the entries in the following list into a single string and print that string, using a for loop.\n",
        "words = ['Once upon a ','midnight dreary ','while I pondered ','weak and weary']\n",
        "allstrings = \"\"\n",
        "for x in range(0,4):\n",
        "  mystrings = words[x]\n",
        "  allstrings +=  mystrings\n",
        "print(allstrings)"
      ],
      "execution_count": null,
      "outputs": [
        {
          "output_type": "stream",
          "name": "stdout",
          "text": [
            "Once upon a midnight dreary while I pondered weak and weary\n"
          ]
        }
      ]
    },
    {
      "cell_type": "code",
      "metadata": {
        "id": "EP8hHaBz1nN2",
        "colab": {
          "base_uri": "https://localhost:8080/"
        },
        "outputId": "dda99d2f-0eed-440a-aa72-ac311677a5ba"
      },
      "source": [
        "import numpy as np\n",
        "# Fill a list with the first 1000 multiples of 13 (starting with 13). Verify your work by checking the length of the\n",
        "# list.\n",
        "mylist = np.arange(0,13000,13)\n",
        "print(len(mylist))"
      ],
      "execution_count": null,
      "outputs": [
        {
          "output_type": "stream",
          "name": "stdout",
          "text": [
            "1000\n"
          ]
        }
      ]
    },
    {
      "cell_type": "markdown",
      "metadata": {
        "id": "i-AnL1XWnHpt"
      },
      "source": [
        "# Conditionals\n",
        "\n",
        "These exercises will allow you to test your understanding of conditional statments in Python.\n",
        "\n",
        "(2 points each)"
      ]
    },
    {
      "cell_type": "code",
      "metadata": {
        "id": "4D-yJ8nnyKeg",
        "colab": {
          "base_uri": "https://localhost:8080/"
        },
        "outputId": "a6e5a829-0658-4222-d166-3ffcd1dfc36c"
      },
      "source": [
        "# Test to see what is larger (without printing the answers to the\n",
        "# multiplication to the screen)\n",
        "A = 25*32\n",
        "# or\n",
        "B = 17*49\n",
        "# Print which product is larger to the screen.\n",
        "if A > B:\n",
        "  print(\"A is greater then B\")\n",
        "elif A < B:\n",
        "  print(\"B is greater\")"
      ],
      "execution_count": null,
      "outputs": [
        {
          "output_type": "stream",
          "name": "stdout",
          "text": [
            "B is greater\n"
          ]
        }
      ]
    },
    {
      "cell_type": "code",
      "metadata": {
        "id": "-m9-3H_eyZeX",
        "colab": {
          "base_uri": "https://localhost:8080/"
        },
        "outputId": "52e828f8-0b08-49ad-ba12-a843abd7a7c9"
      },
      "source": [
        "# Test whether or not 18/2 is the same as 36/4\n",
        "a = 18/2\n",
        "b = 36/4\n",
        "\n",
        "if a == b:\n",
        "  print(\"a and b are the same value\")"
      ],
      "execution_count": null,
      "outputs": [
        {
          "output_type": "stream",
          "name": "stdout",
          "text": [
            "a and b are the same value\n"
          ]
        }
      ]
    },
    {
      "cell_type": "code",
      "metadata": {
        "id": "wfyraanJyalj",
        "colab": {
          "base_uri": "https://localhost:8080/"
        },
        "outputId": "8bf0fc37-b288-4b57-ba9a-82678bcb68dc"
      },
      "source": [
        "# Test whether or not 18/2 is the same as 36.0/4.0\n",
        "c=18/2\n",
        "d=36.0/4.0\n",
        "\n",
        "if c == d:\n",
        "  print(\"c and d are the same value\")"
      ],
      "execution_count": null,
      "outputs": [
        {
          "output_type": "stream",
          "name": "stdout",
          "text": [
            "c and d are the same value\n"
          ]
        }
      ]
    },
    {
      "cell_type": "code",
      "metadata": {
        "id": "aUJ3IR5qybeu",
        "colab": {
          "base_uri": "https://localhost:8080/"
        },
        "outputId": "0c307f19-6521-496a-a657-f564794c0834"
      },
      "source": [
        "# Test whether or not 1/2 is the same as 1.0/2.0\n",
        "e=1/2\n",
        "f=1.0/2.0\n",
        "\n",
        "if e == f:\n",
        "  print(\"e and f are the same value\")"
      ],
      "execution_count": null,
      "outputs": [
        {
          "output_type": "stream",
          "name": "stdout",
          "text": [
            "e and f are the same value\n"
          ]
        }
      ]
    },
    {
      "cell_type": "code",
      "metadata": {
        "id": "S9aKmmQ8yc4Q",
        "colab": {
          "base_uri": "https://localhost:8080/"
        },
        "outputId": "7348390e-2e7b-4db1-c4d1-49200d88caaa"
      },
      "source": [
        "# Are these two strings equal? If not write some code to figure out what is different.\n",
        "x = \"00000000000000000000000000000000000000000000000000\"\n",
        "y = \"00000000000000000000000000000000000000000000O00000\"\n",
        "\n",
        "if x == y:\n",
        "  print(\"x and y are the same\")\n",
        "else:\n",
        "  if len(x) == len(y):\n",
        "    for i in range(len(x)):\n",
        "      if x[i] == y[i]:\n",
        "        continue\n",
        "      else:\n",
        "        print(f\"there is a difference at character number: {i}\")"
      ],
      "execution_count": null,
      "outputs": [
        {
          "output_type": "stream",
          "name": "stdout",
          "text": [
            "there is a difference at character number: 44\n"
          ]
        }
      ]
    },
    {
      "cell_type": "markdown",
      "metadata": {
        "id": "zXiidCtvnwCq"
      },
      "source": [
        "# Functions\n",
        "\n",
        "Write a function called ```feet2miles``` that takes in 1 argument, ```feet``` and returns the equivalent number of miles. Set the default value of feet to be 100.\n",
        "\n",
        "For reference, there are 5280 feet in a mile.\n",
        "\n",
        "(5 points)"
      ]
    },
    {
      "cell_type": "code",
      "metadata": {
        "id": "Db55VxfCnw3B",
        "colab": {
          "base_uri": "https://localhost:8080/"
        },
        "outputId": "f38b5399-56d6-497e-9788-982a8c7451d8"
      },
      "source": [
        "# Your code here\n",
        "def feet2miles(FEET):\n",
        "  miles = FEET/5280\n",
        "  return miles\n",
        "\n",
        "\n",
        "# This part is for testing the above.\n",
        "\n",
        "m = feet2miles(5280)\n",
        "print(m) # Should be 1\n",
        "\n",
        "m = feet2miles(1)\n",
        "print(m)\n",
        "\n",
        "m = feet2miles(1000)\n",
        "print(m)"
      ],
      "execution_count": null,
      "outputs": [
        {
          "output_type": "stream",
          "name": "stdout",
          "text": [
            "1.0\n",
            "0.0001893939393939394\n",
            "0.1893939393939394\n"
          ]
        }
      ]
    },
    {
      "cell_type": "code",
      "source": [
        "# Make an array of values in feet, ranging from 1000 to 20000, in steps of 1000\n",
        "# using the np.arange function\n",
        "myfeet = np.arange(1000,20000,1000)\n",
        "# Use your feet2miles function to create a second array,\n",
        "# which is the equivalent of myfeet but is instead mymiles\n",
        "# this should be only one line of code!\n",
        "mymiles = feet2miles(myfeet)\n",
        "print(mymiles)\n"
      ],
      "metadata": {
        "id": "eXKYot3Tprt4",
        "colab": {
          "base_uri": "https://localhost:8080/"
        },
        "outputId": "e2d26e1a-b566-4f8b-ed9f-4f1873402cc7"
      },
      "execution_count": null,
      "outputs": [
        {
          "output_type": "stream",
          "name": "stdout",
          "text": [
            "[0.18939394 0.37878788 0.56818182 0.75757576 0.9469697  1.13636364\n",
            " 1.32575758 1.51515152 1.70454545 1.89393939 2.08333333 2.27272727\n",
            " 2.46212121 2.65151515 2.84090909 3.03030303 3.21969697 3.40909091\n",
            " 3.59848485]\n"
          ]
        }
      ]
    },
    {
      "cell_type": "markdown",
      "metadata": {
        "id": "ZfpbRMrF0gc1"
      },
      "source": [
        "# Plotting"
      ]
    },
    {
      "cell_type": "markdown",
      "metadata": {
        "id": "LWKVeMFsHR1R"
      },
      "source": [
        "## Kinematics\n",
        "\n",
        "(5 points)\n",
        "\n",
        "Suppose you are standing on a cliff 50 meters high. You throw a ball almost straight up with a velocity of 15 m/s. It misses the edge of the cliff on the way down so it will continue all the way to the ground below.\n",
        "\n",
        "Neglecting air resistance, solve for the height, velocity, and acceleration of the ball as a function of time.  Write your solution on a whiteboard and check your results with your instructor.\n",
        "\n",
        "Once you have your solution approved, write the functions that you determined here.  Be sure to use the latex/markup features to display the equations in a nice format.   (2 points)\n",
        "\n",
        "\n",
        "\n",
        "1.   $y=15t-4.9t^2$\n",
        "2.   $v_y=15-9.81t$\n",
        "3.   $a=-9.81m/s^2$\n",
        "\n",
        "\n",
        "\n",
        "Then make some plots of the (6 points)\n",
        "\n",
        "* Acceleration vs. time\n",
        "* Velocity vs. time\n",
        "* Position vs. time\n",
        "\n",
        "Make these plots for the time period when it is thrown in the air until it lands on the ground below."
      ]
    },
    {
      "cell_type": "code",
      "source": [
        "from matplotlib import pyplot as plt"
      ],
      "metadata": {
        "id": "PrmsPbQFHTs-"
      },
      "execution_count": null,
      "outputs": []
    },
    {
      "cell_type": "code",
      "metadata": {
        "id": "5lOCmSa8oLL3",
        "colab": {
          "base_uri": "https://localhost:8080/",
          "height": 1000
        },
        "outputId": "caeb2fe8-8181-446c-d61f-5220d000154e"
      },
      "source": [
        "# Your code here\n",
        "time = np.arange(0,10,1)\n",
        "acc = -9.81 * np.ones(len(time))\n",
        "veloc_y = 15 - 9.81 * time\n",
        "y = 15 * time - 4.9 * time**2\n",
        "#Acceleration vs. time\n",
        "plt.figure(figsize=(10,15))\n",
        "plt.subplot(3,1,1)\n",
        "plt.plot(time,acc,markersize=2,label=\"a = -9.81\")\n",
        "plt.xlabel(\"time\")\n",
        "plt.ylabel(\"accleration\")\n",
        "plt.title(\"accleration vs. time!\",fontsize=20)\n",
        "plt.legend()\n",
        "\n",
        "#Velocity vs. time\n",
        "plt.subplot(3,1,2)\n",
        "plt.plot(time,veloc_y,markersize=2,label=\"v = 15 − 9.81t\")\n",
        "plt.xlabel(\"time\")\n",
        "plt.ylabel(\"velocity\")\n",
        "plt.title(\"velocity vs. time!\",fontsize=20)\n",
        "plt.legend()\n",
        "\n",
        "#Position vs. time\n",
        "plt.subplot(3,1,3)\n",
        "plt.plot(time,y,markersize=2,label=\"y=15t−4.9t2\")\n",
        "plt.xlabel(\"time\")\n",
        "plt.ylabel(\"position\")\n",
        "plt.title(\"position vs. time!\",fontsize=20)\n",
        "plt.legend()"
      ],
      "execution_count": null,
      "outputs": [
        {
          "output_type": "execute_result",
          "data": {
            "text/plain": [
              "<matplotlib.legend.Legend at 0x7e410718c4c0>"
            ]
          },
          "metadata": {},
          "execution_count": 185
        },
        {
          "output_type": "display_data",
          "data": {
            "text/plain": [
              "<Figure size 1000x1500 with 3 Axes>"
            ],
            "image/png": "[encoded data removed]"
          },
          "metadata": {}
        }
      ]
    },
    {
      "cell_type": "markdown",
      "source": [
        "## Make a plot of $sin(\\theta)$ and $cos(\\theta)$\n",
        "\n",
        "(5 points)\n",
        "\n",
        "* make a plot of $sin(\\theta)$ and $cos(\\theta)$ as a function of theta, $\\theta$.\n",
        "* theta should be in radians, with theta ranging from $0 \\le \\theta \\le 2\\pi$. (Hint: use np.linspace to create the theta array, with 100 elements.)\n",
        "* make a plot with 1 column and two rows, and plot sin in the top row and cosine in the bottom row.  You can use plt.subplot to make multi-panel plots.\n",
        "\n",
        "```\n",
        "plt.subplot(2,1,1)\n",
        "```\n",
        "* NOTE: for this exercise, you should use the trig functions from numpy, e.g. np.sin and np.cos.\n",
        "\n",
        "(4 points)"
      ],
      "metadata": {
        "id": "j2mlCHh4oMhx"
      }
    },
    {
      "cell_type": "code",
      "source": [
        "# Your code here\n",
        "Theta = np.linspace(0,2*np.pi,100)\n",
        "y = np.sin(Theta)\n",
        "y2 = np.cos(Theta)\n",
        "\n",
        "plt.figure(figsize=(10,15))\n",
        "plt.subplot(2,1,1)\n",
        "plt.plot(Theta,y,markersize=3,label=\"y = sin(Theta)\")\n",
        "plt.xlabel(\"Theta\")\n",
        "plt.ylabel(\"Sin\")\n",
        "plt.title(\"Sin function\",fontsize=20)\n",
        "plt.legend()\n",
        "\n",
        "\n",
        "plt.subplot(2,1,2)\n",
        "plt.plot(Theta,y2,markersize=3,label=\"y = cos(Theta)\")\n",
        "plt.xlabel(\"Theta\")\n",
        "plt.ylabel(\"Cosine\")\n",
        "plt.title(\"Cosine function\",fontsize=20)\n",
        "plt.legend()"
      ],
      "metadata": {
        "id": "FA-1b2RGo9Dz",
        "colab": {
          "base_uri": "https://localhost:8080/",
          "height": 1000
        },
        "outputId": "ffb170ae-4c3f-4bab-d13e-05210a3ffbcc"
      },
      "execution_count": null,
      "outputs": [
        {
          "output_type": "execute_result",
          "data": {
            "text/plain": [
              "<matplotlib.legend.Legend at 0x7e4106ec6ef0>"
            ]
          },
          "metadata": {},
          "execution_count": 187
        },
        {
          "output_type": "display_data",
          "data": {
            "text/plain": [
              "<Figure size 1000x1500 with 2 Axes>"
            ],
            "image/png": "[encoded data removed]"
          },
          "metadata": {}
        }
      ]
    },
    {
      "cell_type": "code",
      "source": [],
      "metadata": {
        "id": "RdW3G8g3PEyI"
      },
      "execution_count": null,
      "outputs": []
    }
  ]
}